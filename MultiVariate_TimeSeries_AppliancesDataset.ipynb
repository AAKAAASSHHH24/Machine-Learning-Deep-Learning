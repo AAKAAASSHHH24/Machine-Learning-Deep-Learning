{
  "nbformat": 4,
  "nbformat_minor": 0,
  "metadata": {
    "colab": {
      "name": "MultiVariate_TimeSeries_AppliancesDataset.ipynb",
      "provenance": [],
      "authorship_tag": "ABX9TyN1OgqgS+oj49pbrk7M3umv",
      "include_colab_link": true
    },
    "kernelspec": {
      "name": "python3",
      "display_name": "Python 3"
    },
    "accelerator": "GPU"
  },
  "cells": [
    {
      "cell_type": "markdown",
      "metadata": {
        "id": "view-in-github",
        "colab_type": "text"
      },
      "source": [
        "<a href=\"https://colab.research.google.com/github/Divyanshu-ISM/Machine-Learning-Deep-Learning/blob/main/MultiVariate_TimeSeries_AppliancesDataset.ipynb\" target=\"_parent\"><img src=\"https://colab.research.google.com/assets/colab-badge.svg\" alt=\"Open In Colab\"/></a>"
      ]
    },
    {
      "cell_type": "code",
      "metadata": {
        "id": "DlzWDhen2U52"
      },
      "source": [
        "import numpy as np\r\n",
        "import pandas as pd\r\n",
        "import matplotlib.pyplot as plt\r\n",
        "\r\n",
        "import matplotlib as mpl\r\n",
        "mpl.rcParams['figure.figsize'] = (12, 4)\r\n",
        "mpl.rcParams['axes.grid'] = False\r\n",
        "# mpl.rcParams['style'] = 'default'\r\n",
        "\r\n",
        "from sklearn.preprocessing import MinMaxScaler, StandardScaler\r\n",
        "import tensorflow as tf"
      ],
      "execution_count": 35,
      "outputs": []
    },
    {
      "cell_type": "code",
      "metadata": {
        "id": "ZWmOWCn-3RA5"
      },
      "source": [
        "df = pd.read_csv('https://archive.ics.uci.edu/ml/machine-learning-databases/00374/energydata_complete.csv',index_col=0,parse_dates=True)"
      ],
      "execution_count": 2,
      "outputs": []
    },
    {
      "cell_type": "code",
      "metadata": {
        "colab": {
          "base_uri": "https://localhost:8080/",
          "height": 223
        },
        "id": "NA7GOeTU3i_N",
        "outputId": "ff4245b3-4ea1-4849-bb73-264e1bf83144"
      },
      "source": [
        "df.head(2)"
      ],
      "execution_count": 3,
      "outputs": [
        {
          "output_type": "execute_result",
          "data": {
            "text/html": [
              "<div>\n",
              "<style scoped>\n",
              "    .dataframe tbody tr th:only-of-type {\n",
              "        vertical-align: middle;\n",
              "    }\n",
              "\n",
              "    .dataframe tbody tr th {\n",
              "        vertical-align: top;\n",
              "    }\n",
              "\n",
              "    .dataframe thead th {\n",
              "        text-align: right;\n",
              "    }\n",
              "</style>\n",
              "<table border=\"1\" class=\"dataframe\">\n",
              "  <thead>\n",
              "    <tr style=\"text-align: right;\">\n",
              "      <th></th>\n",
              "      <th>Appliances</th>\n",
              "      <th>lights</th>\n",
              "      <th>T1</th>\n",
              "      <th>RH_1</th>\n",
              "      <th>T2</th>\n",
              "      <th>RH_2</th>\n",
              "      <th>T3</th>\n",
              "      <th>RH_3</th>\n",
              "      <th>T4</th>\n",
              "      <th>RH_4</th>\n",
              "      <th>T5</th>\n",
              "      <th>RH_5</th>\n",
              "      <th>T6</th>\n",
              "      <th>RH_6</th>\n",
              "      <th>T7</th>\n",
              "      <th>RH_7</th>\n",
              "      <th>T8</th>\n",
              "      <th>RH_8</th>\n",
              "      <th>T9</th>\n",
              "      <th>RH_9</th>\n",
              "      <th>T_out</th>\n",
              "      <th>Press_mm_hg</th>\n",
              "      <th>RH_out</th>\n",
              "      <th>Windspeed</th>\n",
              "      <th>Visibility</th>\n",
              "      <th>Tdewpoint</th>\n",
              "      <th>rv1</th>\n",
              "      <th>rv2</th>\n",
              "    </tr>\n",
              "    <tr>\n",
              "      <th>date</th>\n",
              "      <th></th>\n",
              "      <th></th>\n",
              "      <th></th>\n",
              "      <th></th>\n",
              "      <th></th>\n",
              "      <th></th>\n",
              "      <th></th>\n",
              "      <th></th>\n",
              "      <th></th>\n",
              "      <th></th>\n",
              "      <th></th>\n",
              "      <th></th>\n",
              "      <th></th>\n",
              "      <th></th>\n",
              "      <th></th>\n",
              "      <th></th>\n",
              "      <th></th>\n",
              "      <th></th>\n",
              "      <th></th>\n",
              "      <th></th>\n",
              "      <th></th>\n",
              "      <th></th>\n",
              "      <th></th>\n",
              "      <th></th>\n",
              "      <th></th>\n",
              "      <th></th>\n",
              "      <th></th>\n",
              "      <th></th>\n",
              "    </tr>\n",
              "  </thead>\n",
              "  <tbody>\n",
              "    <tr>\n",
              "      <th>2016-01-11 17:00:00</th>\n",
              "      <td>60</td>\n",
              "      <td>30</td>\n",
              "      <td>19.89</td>\n",
              "      <td>47.596667</td>\n",
              "      <td>19.2</td>\n",
              "      <td>44.7900</td>\n",
              "      <td>19.79</td>\n",
              "      <td>44.73</td>\n",
              "      <td>19.0</td>\n",
              "      <td>45.566667</td>\n",
              "      <td>17.166667</td>\n",
              "      <td>55.2</td>\n",
              "      <td>7.026667</td>\n",
              "      <td>84.256667</td>\n",
              "      <td>17.2</td>\n",
              "      <td>41.626667</td>\n",
              "      <td>18.2</td>\n",
              "      <td>48.900000</td>\n",
              "      <td>17.033333</td>\n",
              "      <td>45.53</td>\n",
              "      <td>6.600000</td>\n",
              "      <td>733.5</td>\n",
              "      <td>92.0</td>\n",
              "      <td>7.000000</td>\n",
              "      <td>63.000000</td>\n",
              "      <td>5.3</td>\n",
              "      <td>13.275433</td>\n",
              "      <td>13.275433</td>\n",
              "    </tr>\n",
              "    <tr>\n",
              "      <th>2016-01-11 17:10:00</th>\n",
              "      <td>60</td>\n",
              "      <td>30</td>\n",
              "      <td>19.89</td>\n",
              "      <td>46.693333</td>\n",
              "      <td>19.2</td>\n",
              "      <td>44.7225</td>\n",
              "      <td>19.79</td>\n",
              "      <td>44.79</td>\n",
              "      <td>19.0</td>\n",
              "      <td>45.992500</td>\n",
              "      <td>17.166667</td>\n",
              "      <td>55.2</td>\n",
              "      <td>6.833333</td>\n",
              "      <td>84.063333</td>\n",
              "      <td>17.2</td>\n",
              "      <td>41.560000</td>\n",
              "      <td>18.2</td>\n",
              "      <td>48.863333</td>\n",
              "      <td>17.066667</td>\n",
              "      <td>45.56</td>\n",
              "      <td>6.483333</td>\n",
              "      <td>733.6</td>\n",
              "      <td>92.0</td>\n",
              "      <td>6.666667</td>\n",
              "      <td>59.166667</td>\n",
              "      <td>5.2</td>\n",
              "      <td>18.606195</td>\n",
              "      <td>18.606195</td>\n",
              "    </tr>\n",
              "  </tbody>\n",
              "</table>\n",
              "</div>"
            ],
            "text/plain": [
              "                     Appliances  lights     T1  ...  Tdewpoint        rv1        rv2\n",
              "date                                            ...                                 \n",
              "2016-01-11 17:00:00          60      30  19.89  ...        5.3  13.275433  13.275433\n",
              "2016-01-11 17:10:00          60      30  19.89  ...        5.2  18.606195  18.606195\n",
              "\n",
              "[2 rows x 28 columns]"
            ]
          },
          "metadata": {
            "tags": []
          },
          "execution_count": 3
        }
      ]
    },
    {
      "cell_type": "code",
      "metadata": {
        "id": "sAWSHWtz4q6h"
      },
      "source": [
        "cols = ['Appliances', 'lights','T_out', 'RH_1', 'Visibility']\r\n",
        "\r\n",
        "df = df[cols]"
      ],
      "execution_count": 5,
      "outputs": []
    },
    {
      "cell_type": "code",
      "metadata": {
        "colab": {
          "base_uri": "https://localhost:8080/",
          "height": 225
        },
        "id": "_5xeXs8F6Xq7",
        "outputId": "98e5319d-c819-4e39-ce84-0fdd683b2559"
      },
      "source": [
        "df.head()"
      ],
      "execution_count": 6,
      "outputs": [
        {
          "output_type": "execute_result",
          "data": {
            "text/html": [
              "<div>\n",
              "<style scoped>\n",
              "    .dataframe tbody tr th:only-of-type {\n",
              "        vertical-align: middle;\n",
              "    }\n",
              "\n",
              "    .dataframe tbody tr th {\n",
              "        vertical-align: top;\n",
              "    }\n",
              "\n",
              "    .dataframe thead th {\n",
              "        text-align: right;\n",
              "    }\n",
              "</style>\n",
              "<table border=\"1\" class=\"dataframe\">\n",
              "  <thead>\n",
              "    <tr style=\"text-align: right;\">\n",
              "      <th></th>\n",
              "      <th>Appliances</th>\n",
              "      <th>lights</th>\n",
              "      <th>T_out</th>\n",
              "      <th>RH_1</th>\n",
              "      <th>Visibility</th>\n",
              "    </tr>\n",
              "    <tr>\n",
              "      <th>date</th>\n",
              "      <th></th>\n",
              "      <th></th>\n",
              "      <th></th>\n",
              "      <th></th>\n",
              "      <th></th>\n",
              "    </tr>\n",
              "  </thead>\n",
              "  <tbody>\n",
              "    <tr>\n",
              "      <th>2016-01-11 17:00:00</th>\n",
              "      <td>60</td>\n",
              "      <td>30</td>\n",
              "      <td>6.600000</td>\n",
              "      <td>47.596667</td>\n",
              "      <td>63.000000</td>\n",
              "    </tr>\n",
              "    <tr>\n",
              "      <th>2016-01-11 17:10:00</th>\n",
              "      <td>60</td>\n",
              "      <td>30</td>\n",
              "      <td>6.483333</td>\n",
              "      <td>46.693333</td>\n",
              "      <td>59.166667</td>\n",
              "    </tr>\n",
              "    <tr>\n",
              "      <th>2016-01-11 17:20:00</th>\n",
              "      <td>50</td>\n",
              "      <td>30</td>\n",
              "      <td>6.366667</td>\n",
              "      <td>46.300000</td>\n",
              "      <td>55.333333</td>\n",
              "    </tr>\n",
              "    <tr>\n",
              "      <th>2016-01-11 17:30:00</th>\n",
              "      <td>50</td>\n",
              "      <td>40</td>\n",
              "      <td>6.250000</td>\n",
              "      <td>46.066667</td>\n",
              "      <td>51.500000</td>\n",
              "    </tr>\n",
              "    <tr>\n",
              "      <th>2016-01-11 17:40:00</th>\n",
              "      <td>60</td>\n",
              "      <td>40</td>\n",
              "      <td>6.133333</td>\n",
              "      <td>46.333333</td>\n",
              "      <td>47.666667</td>\n",
              "    </tr>\n",
              "  </tbody>\n",
              "</table>\n",
              "</div>"
            ],
            "text/plain": [
              "                     Appliances  lights     T_out       RH_1  Visibility\n",
              "date                                                                    \n",
              "2016-01-11 17:00:00          60      30  6.600000  47.596667   63.000000\n",
              "2016-01-11 17:10:00          60      30  6.483333  46.693333   59.166667\n",
              "2016-01-11 17:20:00          50      30  6.366667  46.300000   55.333333\n",
              "2016-01-11 17:30:00          50      40  6.250000  46.066667   51.500000\n",
              "2016-01-11 17:40:00          60      40  6.133333  46.333333   47.666667"
            ]
          },
          "metadata": {
            "tags": []
          },
          "execution_count": 6
        }
      ]
    },
    {
      "cell_type": "code",
      "metadata": {
        "colab": {
          "base_uri": "https://localhost:8080/"
        },
        "id": "NeVn3ZJZ6Za9",
        "outputId": "52093533-8eda-43e5-a5c4-e07755b96d21"
      },
      "source": [
        "len(df)*0.80"
      ],
      "execution_count": 10,
      "outputs": [
        {
          "output_type": "execute_result",
          "data": {
            "text/plain": [
              "15788.0"
            ]
          },
          "metadata": {
            "tags": []
          },
          "execution_count": 10
        }
      ]
    },
    {
      "cell_type": "markdown",
      "metadata": {
        "id": "qVR-ADNn7AIy"
      },
      "source": [
        "Data is collected every 10 mins."
      ]
    },
    {
      "cell_type": "markdown",
      "metadata": {
        "id": "GKL_Zz049Kvm"
      },
      "source": [
        "## Train-Test Split."
      ]
    },
    {
      "cell_type": "code",
      "metadata": {
        "id": "3Epr_kLU6beT"
      },
      "source": [
        "df_train = df.iloc[:15800, :]\r\n",
        "df_test = df.iloc[15800: , :]"
      ],
      "execution_count": 13,
      "outputs": []
    },
    {
      "cell_type": "code",
      "metadata": {
        "colab": {
          "base_uri": "https://localhost:8080/"
        },
        "id": "Vro4Nc7q_P-3",
        "outputId": "d5e00aa3-e007-45ea-a5b8-7be19910d04a"
      },
      "source": [
        "df_train.shape , df_test.shape"
      ],
      "execution_count": 14,
      "outputs": [
        {
          "output_type": "execute_result",
          "data": {
            "text/plain": [
              "((15800, 5), (3935, 5))"
            ]
          },
          "metadata": {
            "tags": []
          },
          "execution_count": 14
        }
      ]
    },
    {
      "cell_type": "markdown",
      "metadata": {
        "id": "UNfpUKv8_qgr"
      },
      "source": [
        "## Data Scaling."
      ]
    },
    {
      "cell_type": "code",
      "metadata": {
        "id": "P5n0Rh69AIXv"
      },
      "source": [
        "scaler = MinMaxScaler()"
      ],
      "execution_count": 16,
      "outputs": []
    },
    {
      "cell_type": "code",
      "metadata": {
        "id": "q3nyi1QWAINZ"
      },
      "source": [
        "df_train_scaled_values = scaler.fit_transform(df_train)\r\n",
        "\r\n",
        "df_train_scaled = pd.DataFrame(data = df_train_scaled_values , index = df_train.index , columns = df_train.columns)"
      ],
      "execution_count": 17,
      "outputs": []
    },
    {
      "cell_type": "code",
      "metadata": {
        "id": "D6KhxyQPAIBC"
      },
      "source": [
        "df_test_scaled_values = scaler.transform(df_test)\r\n",
        "\r\n",
        "df_test_scaled = pd.DataFrame(data = df_test_scaled_values , index = df_test.index , columns = df_test.columns)"
      ],
      "execution_count": 18,
      "outputs": []
    },
    {
      "cell_type": "markdown",
      "metadata": {
        "id": "IVCncfNqBEhF"
      },
      "source": [
        "# Creating Batches"
      ]
    },
    {
      "cell_type": "code",
      "metadata": {
        "id": "TbR5VclJBHKm"
      },
      "source": [
        "output_column = 'Appliances'"
      ],
      "execution_count": 19,
      "outputs": []
    },
    {
      "cell_type": "code",
      "metadata": {
        "id": "37CC2-HO_ovp"
      },
      "source": [
        "def batcher(look_up_time_steps,df,output_column):\r\n",
        "\r\n",
        "  l = look_up_time_steps\r\n",
        "\r\n",
        "  X = df.drop(output_column,axis=1)\r\n",
        "  y = df[output_column]\r\n",
        "\r\n",
        "  X_ = []\r\n",
        "  y_ = []\r\n",
        "\r\n",
        "  for i in range(l,len(df)):\r\n",
        "\r\n",
        "    batchX = X.iloc[i-l:i,:]\r\n",
        "    X_.append(batchX)\r\n",
        "\r\n",
        "    batchY = y.iloc[i]\r\n",
        "    y_.append(batchY)\r\n",
        "\r\n",
        "  X_ = np.array(X_)\r\n",
        "  y_ = np.array(y_)\r\n",
        "\r\n",
        "  return X_,y_"
      ],
      "execution_count": 15,
      "outputs": []
    },
    {
      "cell_type": "code",
      "metadata": {
        "id": "f5EZ-6ODAG1s"
      },
      "source": [
        "X_train_scaled , y_train_scaled = batcher(520 , df_train_scaled , output_column)"
      ],
      "execution_count": 20,
      "outputs": []
    },
    {
      "cell_type": "code",
      "metadata": {
        "id": "V7f7M4srG45J"
      },
      "source": [
        "X_test_scaled , y_test_scaled = batcher(520 , df_test_scaled , output_column)"
      ],
      "execution_count": 21,
      "outputs": []
    },
    {
      "cell_type": "markdown",
      "metadata": {
        "id": "0Nf4s7QBHUb9"
      },
      "source": [
        "# Model Architecture"
      ]
    },
    {
      "cell_type": "code",
      "metadata": {
        "colab": {
          "base_uri": "https://localhost:8080/"
        },
        "id": "zWpx8nXJHEYn",
        "outputId": "4a4ba8cb-8665-4ae9-b8ba-2bc77679d3c8"
      },
      "source": [
        "X_train_scaled.shape"
      ],
      "execution_count": 22,
      "outputs": [
        {
          "output_type": "execute_result",
          "data": {
            "text/plain": [
              "(15280, 520, 4)"
            ]
          },
          "metadata": {
            "tags": []
          },
          "execution_count": 22
        }
      ]
    },
    {
      "cell_type": "code",
      "metadata": {
        "id": "K24v06U9Hedu"
      },
      "source": [
        "input_shape = (X_train_scaled.shape[1],X_train_scaled.shape[2])"
      ],
      "execution_count": 23,
      "outputs": []
    },
    {
      "cell_type": "code",
      "metadata": {
        "id": "c8jdhBuUH4BK"
      },
      "source": [
        "from tensorflow.keras import Sequential\r\n",
        "from tensorflow.keras.layers import Dense,LSTM,Dropout , LeakyReLU"
      ],
      "execution_count": 26,
      "outputs": []
    },
    {
      "cell_type": "code",
      "metadata": {
        "id": "T6hZJHiRH5dP"
      },
      "source": [
        "model = Sequential()\r\n",
        "\r\n",
        "model.add(LSTM(128, input_shape= input_shape, return_sequences=True))\r\n",
        "model.add(LeakyReLU(alpha=0.45))\r\n",
        "\r\n",
        "model.add(LSTM(128,  return_sequences=True))\r\n",
        "model.add(LeakyReLU(alpha=0.45))\r\n",
        "model.add(Dropout(0.4))\r\n",
        "\r\n",
        "model.add(LSTM(64, return_sequences=False))\r\n",
        "model.add(Dropout(0.2))\r\n",
        "\r\n",
        "model.add(Dense(1))\r\n",
        "\r\n"
      ],
      "execution_count": 30,
      "outputs": []
    },
    {
      "cell_type": "markdown",
      "metadata": {
        "id": "JEOkIsS6KOpJ"
      },
      "source": [
        "Compile the model."
      ]
    },
    {
      "cell_type": "code",
      "metadata": {
        "id": "uodl-yijJ1ZM"
      },
      "source": [
        "model.compile(optimizer='adam' , loss='mse')"
      ],
      "execution_count": 31,
      "outputs": []
    },
    {
      "cell_type": "markdown",
      "metadata": {
        "id": "7OhU_MT2KhhH"
      },
      "source": [
        "Fit the model."
      ]
    },
    {
      "cell_type": "code",
      "metadata": {
        "colab": {
          "base_uri": "https://localhost:8080/"
        },
        "id": "2H1P-nonKgJk",
        "outputId": "16828084-8c06-4ecd-beb9-7648bbb5ede9"
      },
      "source": [
        "model.fit(X_train_scaled , y_train_scaled , batch_size=32 , epochs = 50 , shuffle=False)"
      ],
      "execution_count": 33,
      "outputs": [
        {
          "output_type": "stream",
          "text": [
            "Epoch 1/50\n",
            "478/478 [==============================] - 37s 58ms/step - loss: 0.0120\n",
            "Epoch 2/50\n",
            "478/478 [==============================] - 27s 57ms/step - loss: 0.0112\n",
            "Epoch 3/50\n",
            "478/478 [==============================] - 27s 57ms/step - loss: 0.0111\n",
            "Epoch 4/50\n",
            "478/478 [==============================] - 27s 57ms/step - loss: 0.0110\n",
            "Epoch 5/50\n",
            "478/478 [==============================] - 27s 57ms/step - loss: 0.0105\n",
            "Epoch 6/50\n",
            "478/478 [==============================] - 27s 57ms/step - loss: 0.0104\n",
            "Epoch 7/50\n",
            "478/478 [==============================] - 27s 57ms/step - loss: 0.0104\n",
            "Epoch 8/50\n",
            "478/478 [==============================] - 27s 57ms/step - loss: 0.0102\n",
            "Epoch 9/50\n",
            "478/478 [==============================] - 27s 57ms/step - loss: 0.0102\n",
            "Epoch 10/50\n",
            "478/478 [==============================] - 27s 57ms/step - loss: 0.0102\n",
            "Epoch 11/50\n",
            "478/478 [==============================] - 27s 57ms/step - loss: 0.0102\n",
            "Epoch 12/50\n",
            "478/478 [==============================] - 27s 57ms/step - loss: 0.0102\n",
            "Epoch 13/50\n",
            "478/478 [==============================] - 27s 57ms/step - loss: 0.0102\n",
            "Epoch 14/50\n",
            "478/478 [==============================] - 27s 57ms/step - loss: 0.0103\n",
            "Epoch 15/50\n",
            "478/478 [==============================] - 27s 57ms/step - loss: 0.0101\n",
            "Epoch 16/50\n",
            "478/478 [==============================] - 27s 57ms/step - loss: 0.0101\n",
            "Epoch 17/50\n",
            "478/478 [==============================] - 27s 57ms/step - loss: 0.0101\n",
            "Epoch 18/50\n",
            "478/478 [==============================] - 27s 57ms/step - loss: 0.0101\n",
            "Epoch 19/50\n",
            "478/478 [==============================] - 27s 57ms/step - loss: 0.0101\n",
            "Epoch 20/50\n",
            "478/478 [==============================] - 27s 57ms/step - loss: 0.0101\n",
            "Epoch 21/50\n",
            "478/478 [==============================] - 27s 57ms/step - loss: 0.0102\n",
            "Epoch 22/50\n",
            "478/478 [==============================] - 27s 57ms/step - loss: 0.0103\n",
            "Epoch 23/50\n",
            "478/478 [==============================] - 27s 57ms/step - loss: 0.0101\n",
            "Epoch 24/50\n",
            "478/478 [==============================] - 27s 57ms/step - loss: 0.0101\n",
            "Epoch 25/50\n",
            "478/478 [==============================] - 27s 57ms/step - loss: 0.0101\n",
            "Epoch 26/50\n",
            "478/478 [==============================] - 27s 58ms/step - loss: 0.0103\n",
            "Epoch 27/50\n",
            "478/478 [==============================] - 27s 57ms/step - loss: 0.0101\n",
            "Epoch 28/50\n",
            "478/478 [==============================] - 27s 58ms/step - loss: 0.0102\n",
            "Epoch 29/50\n",
            "478/478 [==============================] - 27s 57ms/step - loss: 0.0102\n",
            "Epoch 30/50\n",
            "478/478 [==============================] - 27s 57ms/step - loss: 0.0102\n",
            "Epoch 31/50\n",
            "478/478 [==============================] - 27s 57ms/step - loss: 0.0102\n",
            "Epoch 32/50\n",
            "478/478 [==============================] - 27s 57ms/step - loss: 0.0102\n",
            "Epoch 33/50\n",
            "478/478 [==============================] - 28s 58ms/step - loss: 0.0101\n",
            "Epoch 34/50\n",
            "478/478 [==============================] - 28s 58ms/step - loss: 0.0102\n",
            "Epoch 35/50\n",
            "478/478 [==============================] - 28s 58ms/step - loss: 0.0106\n",
            "Epoch 36/50\n",
            "478/478 [==============================] - 28s 58ms/step - loss: 0.0101\n",
            "Epoch 37/50\n",
            "478/478 [==============================] - 28s 58ms/step - loss: 0.0101\n",
            "Epoch 38/50\n",
            "478/478 [==============================] - 28s 58ms/step - loss: 0.0101\n",
            "Epoch 39/50\n",
            "478/478 [==============================] - 28s 58ms/step - loss: 0.0101\n",
            "Epoch 40/50\n",
            "478/478 [==============================] - 27s 57ms/step - loss: 0.0102\n",
            "Epoch 41/50\n",
            "478/478 [==============================] - 28s 58ms/step - loss: 0.0101\n",
            "Epoch 42/50\n",
            "478/478 [==============================] - 28s 58ms/step - loss: 0.0100\n",
            "Epoch 43/50\n",
            "478/478 [==============================] - 27s 57ms/step - loss: 0.0101\n",
            "Epoch 44/50\n",
            "478/478 [==============================] - 28s 58ms/step - loss: 0.0101\n",
            "Epoch 45/50\n",
            "478/478 [==============================] - 27s 57ms/step - loss: 0.0102\n",
            "Epoch 46/50\n",
            "478/478 [==============================] - 27s 57ms/step - loss: 0.0107\n",
            "Epoch 47/50\n",
            "478/478 [==============================] - 27s 57ms/step - loss: 0.0102\n",
            "Epoch 48/50\n",
            "478/478 [==============================] - 28s 58ms/step - loss: 0.0101\n",
            "Epoch 49/50\n",
            "478/478 [==============================] - 28s 58ms/step - loss: 0.0100\n",
            "Epoch 50/50\n",
            "478/478 [==============================] - 27s 57ms/step - loss: 0.0101\n"
          ],
          "name": "stdout"
        },
        {
          "output_type": "execute_result",
          "data": {
            "text/plain": [
              "<tensorflow.python.keras.callbacks.History at 0x7fc2d3ed7cf8>"
            ]
          },
          "metadata": {
            "tags": []
          },
          "execution_count": 33
        }
      ]
    },
    {
      "cell_type": "code",
      "metadata": {
        "colab": {
          "base_uri": "https://localhost:8080/",
          "height": 447
        },
        "id": "GUebFxA0Kul9",
        "outputId": "53ad35f8-b843-4bcb-9907-f71d9ae10351"
      },
      "source": [
        "plt.style.use('default')\r\n",
        "losses = model.history.history['loss']\r\n",
        "plt.plot(range(len(losses)), losses)"
      ],
      "execution_count": 37,
      "outputs": [
        {
          "output_type": "execute_result",
          "data": {
            "text/plain": [
              "[<matplotlib.lines.Line2D at 0x7fc2c00feef0>]"
            ]
          },
          "metadata": {
            "tags": []
          },
          "execution_count": 37
        },
        {
          "output_type": "display_data",
          "data": {
            "image/png": "[encoded data removed]",
            "text/plain": [
              "<Figure size 640x480 with 1 Axes>"
            ]
          },
          "metadata": {
            "tags": []
          }
        }
      ]
    },
    {
      "cell_type": "markdown",
      "metadata": {
        "id": "5bCzFaWHQvPM"
      },
      "source": [
        "# Making Final Test DataFrame"
      ]
    },
    {
      "cell_type": "code",
      "metadata": {
        "id": "zP-ySKBHQQ0x"
      },
      "source": [
        "last_section = df_train_scaled.iloc[-520:,:]\r\n",
        "\r\n",
        "final_test_df = last_section.append(df_test_scaled)"
      ],
      "execution_count": 38,
      "outputs": []
    },
    {
      "cell_type": "code",
      "metadata": {
        "id": "QVZtE-DsRrHx"
      },
      "source": [
        "X_test_scaled, y_test_scaled = batcher(520,final_test_df , output_column)"
      ],
      "execution_count": 42,
      "outputs": []
    },
    {
      "cell_type": "markdown",
      "metadata": {
        "id": "MEFENUl1SmaR"
      },
      "source": [
        "# Predictions."
      ]
    },
    {
      "cell_type": "code",
      "metadata": {
        "id": "hvR8fyNpRshP"
      },
      "source": [
        "yp_test_scaled = model.predict(X_test_scaled)"
      ],
      "execution_count": 43,
      "outputs": []
    },
    {
      "cell_type": "code",
      "metadata": {
        "colab": {
          "base_uri": "https://localhost:8080/"
        },
        "id": "5ZIEQIZUSRcm",
        "outputId": "98909cbc-4da3-4dc2-87fe-ed574f210a8e"
      },
      "source": [
        "len(yp_test_scaled) , len(y_test_scaled)"
      ],
      "execution_count": 45,
      "outputs": [
        {
          "output_type": "execute_result",
          "data": {
            "text/plain": [
              "(3935, 3935)"
            ]
          },
          "metadata": {
            "tags": []
          },
          "execution_count": 45
        }
      ]
    },
    {
      "cell_type": "markdown",
      "metadata": {
        "id": "I37G3u9USiyL"
      },
      "source": [
        "#Back-Scaling to original."
      ]
    },
    {
      "cell_type": "code",
      "metadata": {
        "id": "E5M_KJTdST7M"
      },
      "source": [
        "c = scaler.scale_[0]"
      ],
      "execution_count": 47,
      "outputs": []
    },
    {
      "cell_type": "code",
      "metadata": {
        "colab": {
          "base_uri": "https://localhost:8080/"
        },
        "id": "sXn_6aQgUJwT",
        "outputId": "e885a91f-0fc9-4a10-c903-31511f89546f"
      },
      "source": [
        "scaler.scale_"
      ],
      "execution_count": 60,
      "outputs": [
        {
          "output_type": "execute_result",
          "data": {
            "text/plain": [
              "array([0.00093458, 0.01428571, 0.04048583, 0.02806886, 0.01538462])"
            ]
          },
          "metadata": {
            "tags": []
          },
          "execution_count": 60
        }
      ]
    },
    {
      "cell_type": "code",
      "metadata": {
        "id": "Tqj4yl2qSpqK"
      },
      "source": [
        "yp , y_test = yp_test_scaled/c , y_test_scaled/c"
      ],
      "execution_count": 48,
      "outputs": []
    },
    {
      "cell_type": "code",
      "metadata": {
        "id": "0tpXQ67xS5fe"
      },
      "source": [
        "t_test = final_test_df.index[520:]"
      ],
      "execution_count": 51,
      "outputs": []
    },
    {
      "cell_type": "code",
      "metadata": {
        "colab": {
          "base_uri": "https://localhost:8080/",
          "height": 447
        },
        "id": "uECcbxlPS9xj",
        "outputId": "283250a0-ea1c-4131-f516-c56a505bc1fb"
      },
      "source": [
        "plt.plot(t_test,y_test)\r\n",
        "plt.plot(t_test , yp)"
      ],
      "execution_count": 53,
      "outputs": [
        {
          "output_type": "execute_result",
          "data": {
            "text/plain": [
              "[<matplotlib.lines.Line2D at 0x7fc27407d780>]"
            ]
          },
          "metadata": {
            "tags": []
          },
          "execution_count": 53
        },
        {
          "output_type": "display_data",
          "data": {
            "image/png": "[encoded data removed]",
            "text/plain": [
              "<Figure size 640x480 with 1 Axes>"
            ]
          },
          "metadata": {
            "tags": []
          }
        }
      ]
    },
    {
      "cell_type": "code",
      "metadata": {
        "id": "foQQsIHqTBrB"
      },
      "source": [
        "yp_train = model.predict(X_train_scaled)/c\r\n",
        "y_train = y_train_scaled/c"
      ],
      "execution_count": 54,
      "outputs": []
    },
    {
      "cell_type": "code",
      "metadata": {
        "id": "g8jWsEleTdn_"
      },
      "source": [
        "t_train = df_train.index[:-520]"
      ],
      "execution_count": 55,
      "outputs": []
    },
    {
      "cell_type": "code",
      "metadata": {
        "colab": {
          "base_uri": "https://localhost:8080/",
          "height": 385
        },
        "id": "BDSbhKSrTiae",
        "outputId": "a18aab99-a40d-406b-fb90-e2f4fb0f1019"
      },
      "source": [
        "plt.figure(figsize=(12,4))\r\n",
        "plt.plot(t_train,y_train)\r\n",
        "plt.plot(t_train,yp_train)"
      ],
      "execution_count": 59,
      "outputs": [
        {
          "output_type": "execute_result",
          "data": {
            "text/plain": [
              "[<matplotlib.lines.Line2D at 0x7fc27415f358>]"
            ]
          },
          "metadata": {
            "tags": []
          },
          "execution_count": 59
        },
        {
          "output_type": "display_data",
          "data": {
            "image/png": "[encoded data removed]",
            "text/plain": [
              "<Figure size 1200x400 with 1 Axes>"
            ]
          },
          "metadata": {
            "tags": []
          }
        }
      ]
    },
    {
      "cell_type": "code",
      "metadata": {
        "id": "Mm0AR0KNTk2h"
      },
      "source": [
        "# model.predict(X_train)"
      ],
      "execution_count": 2,
      "outputs": []
    },
    {
      "cell_type": "code",
      "metadata": {
        "id": "4tQ7OIpY0Itc"
      },
      "source": [
        ""
      ],
      "execution_count": null,
      "outputs": []
    }
  ]
}