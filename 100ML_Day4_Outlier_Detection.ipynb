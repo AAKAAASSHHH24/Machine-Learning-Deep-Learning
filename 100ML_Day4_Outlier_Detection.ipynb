{
  "nbformat": 4,
  "nbformat_minor": 0,
  "metadata": {
    "colab": {
      "name": "100ML_Day4_Outlier Detection.ipynb",
      "provenance": [],
      "authorship_tag": "ABX9TyMlz4e5ofukdRXwhabJmOYS",
      "include_colab_link": true
    },
    "kernelspec": {
      "name": "python3",
      "display_name": "Python 3"
    }
  },
  "cells": [
    {
      "cell_type": "markdown",
      "metadata": {
        "id": "view-in-github",
        "colab_type": "text"
      },
      "source": [
        "<a href=\"https://colab.research.google.com/github/Divyanshu-ISM/Machine-Learning-Deep-Learning/blob/main/100ML_Day4_Outlier_Detection.ipynb\" target=\"_parent\"><img src=\"https://colab.research.google.com/assets/colab-badge.svg\" alt=\"Open In Colab\"/></a>"
      ]
    },
    {
      "cell_type": "markdown",
      "metadata": {
        "id": "Walbr38I2mAF"
      },
      "source": [
        "# 100 ML - Day 4\r\n",
        "\r\n",
        "> OUTLIER DETECTION"
      ]
    },
    {
      "cell_type": "code",
      "metadata": {
        "id": "B2RNc7Ji2fBi"
      },
      "source": [
        "import numpy as np\r\n",
        "import matplotlib.pyplot as plt\r\n",
        "import seaborn as sns"
      ],
      "execution_count": 3,
      "outputs": []
    },
    {
      "cell_type": "code",
      "metadata": {
        "id": "FZy6tsr62zRP"
      },
      "source": [
        "X = list(np.random.normal(loc=5,scale=10,size=100))\r\n",
        "\r\n",
        "X.append(200)\r\n",
        "\r\n",
        "Y = np.array(X)"
      ],
      "execution_count": 14,
      "outputs": []
    },
    {
      "cell_type": "code",
      "metadata": {
        "colab": {
          "base_uri": "https://localhost:8080/",
          "height": 335
        },
        "id": "fPi5JMLx3aSQ",
        "outputId": "ed2ac8c4-78d3-49ba-bc4f-fdd4cef17c99"
      },
      "source": [
        "sns.distplot(Y)"
      ],
      "execution_count": 16,
      "outputs": [
        {
          "output_type": "stream",
          "text": [
            "/usr/local/lib/python3.6/dist-packages/seaborn/distributions.py:2551: FutureWarning: `distplot` is a deprecated function and will be removed in a future version. Please adapt your code to use either `displot` (a figure-level function with similar flexibility) or `histplot` (an axes-level function for histograms).\n",
            "  warnings.warn(msg, FutureWarning)\n"
          ],
          "name": "stderr"
        },
        {
          "output_type": "execute_result",
          "data": {
            "text/plain": [
              "<matplotlib.axes._subplots.AxesSubplot at 0x7f0bb9f85898>"
            ]
          },
          "metadata": {
            "tags": []
          },
          "execution_count": 16
        },
        {
          "output_type": "display_data",
          "data": {
            "image/png": "[encoded data removed]",
            "text/plain": [
              "<Figure size 432x288 with 1 Axes>"
            ]
          },
          "metadata": {
            "tags": [],
            "needs_background": "light"
          }
        }
      ]
    },
    {
      "cell_type": "code",
      "metadata": {
        "colab": {
          "base_uri": "https://localhost:8080/",
          "height": 447
        },
        "id": "9kvCC7zY4tc7",
        "outputId": "39d7bc32-d26e-4ff6-c49a-abefdd23215b"
      },
      "source": [
        "plt.style.use('default')\r\n",
        "plt.scatter(X, y = np.zeros(len(X)))\r\n",
        "plt.scatter(200,0,color='red')"
      ],
      "execution_count": 19,
      "outputs": [
        {
          "output_type": "execute_result",
          "data": {
            "text/plain": [
              "<matplotlib.collections.PathCollection at 0x7f0bb9a6a160>"
            ]
          },
          "metadata": {
            "tags": []
          },
          "execution_count": 19
        },
        {
          "output_type": "display_data",
          "data": {
            "image/png": "[encoded data removed]",
            "text/plain": [
              "<Figure size 640x480 with 1 Axes>"
            ]
          },
          "metadata": {
            "tags": []
          }
        }
      ]
    },
    {
      "cell_type": "markdown",
      "metadata": {
        "id": "3PFu-HFg5jTo"
      },
      "source": [
        "#Outlier Detection using a Quantitative Approach\r\n",
        "\r\n",
        ">## 1. Z-Score Method"
      ]
    },
    {
      "cell_type": "code",
      "metadata": {
        "id": "Wb7vPN6G5TA5"
      },
      "source": [
        "mu = np.mean(X)\r\n",
        "sigma = np.std(X)\r\n",
        "z = (X-mu)/sigma"
      ],
      "execution_count": 26,
      "outputs": []
    },
    {
      "cell_type": "code",
      "metadata": {
        "id": "uP6p7KfE5ydy"
      },
      "source": [
        "threshhold = 3\r\n",
        "outliers_z = z[z>threshhold]"
      ],
      "execution_count": 27,
      "outputs": []
    },
    {
      "cell_type": "code",
      "metadata": {
        "id": "ahznIjjU56R5"
      },
      "source": [
        "outliers_X  = outliers_z*sigma + mu"
      ],
      "execution_count": 29,
      "outputs": []
    },
    {
      "cell_type": "code",
      "metadata": {
        "colab": {
          "base_uri": "https://localhost:8080/"
        },
        "id": "r0w7nL4I6HGF",
        "outputId": "947d061c-75f3-439f-89f8-416b24af79a3"
      },
      "source": [
        "outliers_X"
      ],
      "execution_count": 30,
      "outputs": [
        {
          "output_type": "execute_result",
          "data": {
            "text/plain": [
              "array([200.])"
            ]
          },
          "metadata": {
            "tags": []
          },
          "execution_count": 30
        }
      ]
    },
    {
      "cell_type": "code",
      "metadata": {
        "id": "0pKhUjsk6Q7J"
      },
      "source": [
        "#Hence you can see that what was visually evident, we can now find quantitatively. "
      ],
      "execution_count": 31,
      "outputs": []
    },
    {
      "cell_type": "markdown",
      "metadata": {
        "id": "JiFNBdDq68rh"
      },
      "source": [
        "# 2. Using IQR-Method"
      ]
    },
    {
      "cell_type": "code",
      "metadata": {
        "colab": {
          "base_uri": "https://localhost:8080/",
          "height": 428
        },
        "id": "YA5L_tNs6ttb",
        "outputId": "dfba6281-0f77-4461-933c-e4223c227471"
      },
      "source": [
        "sns.boxplot(y=X)"
      ],
      "execution_count": 34,
      "outputs": [
        {
          "output_type": "execute_result",
          "data": {
            "text/plain": [
              "<matplotlib.axes._subplots.AxesSubplot at 0x7f0bb1d10eb8>"
            ]
          },
          "metadata": {
            "tags": []
          },
          "execution_count": 34
        },
        {
          "output_type": "display_data",
          "data": {
            "image/png": "[encoded data removed]",
            "text/plain": [
              "<Figure size 640x480 with 1 Axes>"
            ]
          },
          "metadata": {
            "tags": []
          }
        }
      ]
    },
    {
      "cell_type": "code",
      "metadata": {
        "colab": {
          "base_uri": "https://localhost:8080/"
        },
        "id": "ncCsLgte6w7F",
        "outputId": "ec0cfb08-d16b-42a8-fc23-8ae016d001cb"
      },
      "source": [
        "Q1 = np.percentile(X,25)\r\n",
        "Q3 = np.percentile(X,75)\r\n",
        "IQR = Q3 - Q1\r\n",
        "IQR"
      ],
      "execution_count": 37,
      "outputs": [
        {
          "output_type": "execute_result",
          "data": {
            "text/plain": [
              "11.196649361474535"
            ]
          },
          "metadata": {
            "tags": []
          },
          "execution_count": 37
        }
      ]
    },
    {
      "cell_type": "code",
      "metadata": {
        "id": "t0uGD5cA7PNH"
      },
      "source": [
        "min_ = Q1 - 1.5*IQR\r\n",
        "max_ = Q3 + 1.5*IQR\r\n",
        "\r\n",
        "outs = []\r\n",
        "for v in X:\r\n",
        "  if v>max_ or v<min_:\r\n",
        "    outs.append(v)\r\n"
      ],
      "execution_count": 41,
      "outputs": []
    },
    {
      "cell_type": "code",
      "metadata": {
        "colab": {
          "base_uri": "https://localhost:8080/"
        },
        "id": "nyMrkAal8Bcu",
        "outputId": "34e58692-46aa-4ee7-edc8-0dccab37e785"
      },
      "source": [
        "outs"
      ],
      "execution_count": 42,
      "outputs": [
        {
          "output_type": "execute_result",
          "data": {
            "text/plain": [
              "[30.188555885141113, -18.996040314917522, 32.684133468025124, 200]"
            ]
          },
          "metadata": {
            "tags": []
          },
          "execution_count": 42
        }
      ]
    },
    {
      "cell_type": "code",
      "metadata": {
        "id": "HFgRZ1Mf8Vlo"
      },
      "source": [
        ""
      ],
      "execution_count": null,
      "outputs": []
    }
  ]
}