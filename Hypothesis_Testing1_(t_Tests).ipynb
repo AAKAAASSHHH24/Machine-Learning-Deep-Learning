{
  "nbformat": 4,
  "nbformat_minor": 0,
  "metadata": {
    "colab": {
      "name": "Hypothesis Testing1_(t-Tests).ipynb",
      "provenance": [],
      "authorship_tag": "ABX9TyMGaHc5lR3JjbO1WZ47oQVh",
      "include_colab_link": true
    },
    "kernelspec": {
      "name": "python3",
      "display_name": "Python 3"
    }
  },
  "cells": [
    {
      "cell_type": "markdown",
      "metadata": {
        "id": "view-in-github",
        "colab_type": "text"
      },
      "source": [
        "<a href=\"https://colab.research.google.com/github/Divyanshu-ISM/Machine-Learning-Deep-Learning/blob/main/Hypothesis_Testing1_(t_Tests).ipynb\" target=\"_parent\"><img src=\"https://colab.research.google.com/assets/colab-badge.svg\" alt=\"Open In Colab\"/></a>"
      ]
    },
    {
      "cell_type": "markdown",
      "metadata": {
        "id": "yh4fqtBVuoMj"
      },
      "source": [
        "# Hypothesis Testing With Python - Chapter 1. \n",
        "\n",
        ">## This chapter explains 'T-Tests'.\n",
        "\n",
        "> Divyanshu Vyas | O&G Data Science\n",
        "\n",
        "Hyp. Tests are important Data Analysis and Decision Making tools. \n",
        "\n",
        "**Which tests will be covered?**\n",
        "\n",
        "1. t-Test\n",
        "2. Chi-Square Test\n",
        "3. ANOVA test"
      ]
    },
    {
      "cell_type": "markdown",
      "metadata": {
        "id": "wzmMLQoGvV08"
      },
      "source": [
        "# 1. One Sample T-Test\n",
        "\n",
        "Note : T-Tests are for Numerical populations.\n",
        "\n",
        "### Example 1 : To test weather the means of a population and a sample of it, are different. "
      ]
    },
    {
      "cell_type": "code",
      "metadata": {
        "id": "uAL_1GKf_gMp"
      },
      "source": [
        "import numpy as np\n",
        "import pandas as pd\n",
        "import seaborn as sns\n",
        "import matplotlib.pyplot as plt"
      ],
      "execution_count": 5,
      "outputs": []
    },
    {
      "cell_type": "code",
      "metadata": {
        "id": "kiZy4uX1DZrY"
      },
      "source": [
        "# import pandas as pd\n",
        "import scipy.stats as stats\n",
        "import math"
      ],
      "execution_count": 17,
      "outputs": []
    },
    {
      "cell_type": "code",
      "metadata": {
        "id": "RzU07wZACJgu"
      },
      "source": [
        "def test_results(p):\n",
        "  if p<= 0.05:\n",
        "    print('The H0 is Rejected.')\n",
        "  else:\n",
        "    print('The H0 is failed to be rejected.')"
      ],
      "execution_count": 12,
      "outputs": []
    },
    {
      "cell_type": "code",
      "metadata": {
        "id": "XuJYZFTbuaEj"
      },
      "source": [
        "#Population\n",
        "ages = [10,20,30,10,20,22,32,42,33,44,12,34,56,70,26,10,50,18,26,24,21,15,67,34,25,24,36,34,25,32,33,26]"
      ],
      "execution_count": 3,
      "outputs": []
    },
    {
      "cell_type": "code",
      "metadata": {
        "colab": {
          "base_uri": "https://localhost:8080/"
        },
        "id": "I7sb5HqE_Zft",
        "outputId": "48d75a2e-c897-45ad-f941-afba72d63d6b"
      },
      "source": [
        "len(ages)"
      ],
      "execution_count": 4,
      "outputs": [
        {
          "output_type": "execute_result",
          "data": {
            "text/plain": [
              "32"
            ]
          },
          "metadata": {
            "tags": []
          },
          "execution_count": 4
        }
      ]
    },
    {
      "cell_type": "code",
      "metadata": {
        "colab": {
          "base_uri": "https://localhost:8080/"
        },
        "id": "X6_h5By3_tle",
        "outputId": "3299ce1e-4e31-4a22-d826-3f52520d35d1"
      },
      "source": [
        "av_ages = np.mean(ages)\n",
        "av_ages"
      ],
      "execution_count": 7,
      "outputs": [
        {
          "output_type": "execute_result",
          "data": {
            "text/plain": [
              "30.03125"
            ]
          },
          "metadata": {
            "tags": []
          },
          "execution_count": 7
        }
      ]
    },
    {
      "cell_type": "code",
      "metadata": {
        "id": "sAXGbpskBKrn"
      },
      "source": [
        "#Sampling\n",
        "sample_size=10\n",
        "age_sample = np.random.choice(ages,size=sample_size)"
      ],
      "execution_count": 8,
      "outputs": []
    },
    {
      "cell_type": "code",
      "metadata": {
        "id": "ITlHAkohBduc"
      },
      "source": [
        "from scipy.stats import ttest_1samp"
      ],
      "execution_count": 9,
      "outputs": []
    },
    {
      "cell_type": "code",
      "metadata": {
        "id": "b_7D-67-BlWf"
      },
      "source": [
        "ttest,p_value = ttest_1samp(age_sample,av_ages)"
      ],
      "execution_count": 10,
      "outputs": []
    },
    {
      "cell_type": "code",
      "metadata": {
        "colab": {
          "base_uri": "https://localhost:8080/"
        },
        "id": "kP3oXWSlBw8i",
        "outputId": "b90fb21b-43eb-4a57-d014-7686289c18f6"
      },
      "source": [
        "p_value"
      ],
      "execution_count": 11,
      "outputs": [
        {
          "output_type": "execute_result",
          "data": {
            "text/plain": [
              "0.9500696426526939"
            ]
          },
          "metadata": {
            "tags": []
          },
          "execution_count": 11
        }
      ]
    },
    {
      "cell_type": "markdown",
      "metadata": {
        "id": "r1Y8g_ScB1Fp"
      },
      "source": [
        "H0 : Sample & Pop Mean (Age) are NOT diff.\n",
        "\n",
        "H1 : Sample & Pop Mean (Age) are diff."
      ]
    },
    {
      "cell_type": "code",
      "metadata": {
        "colab": {
          "base_uri": "https://localhost:8080/"
        },
        "id": "CceBYGsiCfkI",
        "outputId": "f3c96ef3-44c2-4ca7-e70d-59526005c07d"
      },
      "source": [
        "test_results(p_value)"
      ],
      "execution_count": 13,
      "outputs": [
        {
          "output_type": "stream",
          "text": [
            "The H0 is failed to be rejected.\n"
          ],
          "name": "stdout"
        }
      ]
    },
    {
      "cell_type": "code",
      "metadata": {
        "colab": {
          "base_uri": "https://localhost:8080/"
        },
        "id": "s_wJRwdFByRm",
        "outputId": "8faae730-1105-4f9d-8495-93f956e71653"
      },
      "source": [
        "#Hence Conclusion- The Null Hyp. is accepted. Hence, \n",
        "#Sample and Pop means are same (not  much diff). \n",
        "\n",
        "#Verification\n",
        "age_sample.mean()"
      ],
      "execution_count": 15,
      "outputs": [
        {
          "output_type": "execute_result",
          "data": {
            "text/plain": [
              "29.7"
            ]
          },
          "metadata": {
            "tags": []
          },
          "execution_count": 15
        }
      ]
    },
    {
      "cell_type": "code",
      "metadata": {
        "id": "7LCKKc0AC1_J"
      },
      "source": [
        "######################################"
      ],
      "execution_count": 16,
      "outputs": []
    },
    {
      "cell_type": "markdown",
      "metadata": {
        "id": "LAZb_OR8DMCg"
      },
      "source": [
        "## Example 2\n",
        "\n",
        "We have a School. \n",
        "\n",
        "And we have Class A and Class B in that School. "
      ]
    },
    {
      "cell_type": "code",
      "metadata": {
        "id": "qI7--hg9DKxe"
      },
      "source": [
        "school_ages=stats.poisson.rvs(loc=18,mu=35,size=1500)\n",
        "classA_ages=stats.poisson.rvs(loc=18,mu=30,size=60)"
      ],
      "execution_count": 18,
      "outputs": []
    },
    {
      "cell_type": "code",
      "metadata": {
        "colab": {
          "base_uri": "https://localhost:8080/",
          "height": 537
        },
        "id": "8-LmsCzJDifB",
        "outputId": "8851f34a-3dda-4f1a-f43c-98da62b31fb6"
      },
      "source": [
        "plt.style.use('default')\n",
        "sns.distplot(school_ages)\n",
        "sns.distplot(classA_ages)"
      ],
      "execution_count": 21,
      "outputs": [
        {
          "output_type": "stream",
          "text": [
            "/usr/local/lib/python3.6/dist-packages/seaborn/distributions.py:2551: FutureWarning: `distplot` is a deprecated function and will be removed in a future version. Please adapt your code to use either `displot` (a figure-level function with similar flexibility) or `histplot` (an axes-level function for histograms).\n",
            "  warnings.warn(msg, FutureWarning)\n",
            "/usr/local/lib/python3.6/dist-packages/seaborn/distributions.py:2551: FutureWarning: `distplot` is a deprecated function and will be removed in a future version. Please adapt your code to use either `displot` (a figure-level function with similar flexibility) or `histplot` (an axes-level function for histograms).\n",
            "  warnings.warn(msg, FutureWarning)\n"
          ],
          "name": "stderr"
        },
        {
          "output_type": "execute_result",
          "data": {
            "text/plain": [
              "<matplotlib.axes._subplots.AxesSubplot at 0x7f2389e50b38>"
            ]
          },
          "metadata": {
            "tags": []
          },
          "execution_count": 21
        },
        {
          "output_type": "display_data",
          "data": {
            "image/png": "[encoded data removed]",
            "text/plain": [
              "<Figure size 640x480 with 1 Axes>"
            ]
          },
          "metadata": {
            "tags": []
          }
        }
      ]
    },
    {
      "cell_type": "code",
      "metadata": {
        "id": "YHo0BdGnDlYu"
      },
      "source": [
        "ttest, p_val = ttest_1samp(classA_ages,school_ages.mean())"
      ],
      "execution_count": 22,
      "outputs": []
    },
    {
      "cell_type": "code",
      "metadata": {
        "colab": {
          "base_uri": "https://localhost:8080/"
        },
        "id": "cr9WmHGDEu6k",
        "outputId": "bb4aae1c-5aa0-4b14-a8ce-4219dfa0a11a"
      },
      "source": [
        "test_results(p_val)"
      ],
      "execution_count": 23,
      "outputs": [
        {
          "output_type": "stream",
          "text": [
            "The H0 is Rejected.\n"
          ],
          "name": "stdout"
        }
      ]
    },
    {
      "cell_type": "markdown",
      "metadata": {
        "id": "HP21pwhaE5xm"
      },
      "source": [
        "It means that School Age mean and Class A age mean is significantly different."
      ]
    },
    {
      "cell_type": "code",
      "metadata": {
        "colab": {
          "base_uri": "https://localhost:8080/"
        },
        "id": "mj3B-upbEy3h",
        "outputId": "b868a310-777e-49a8-a22e-f246c454847a"
      },
      "source": [
        "school_ages.mean(), classA_ages.mean()"
      ],
      "execution_count": 24,
      "outputs": [
        {
          "output_type": "execute_result",
          "data": {
            "text/plain": [
              "(52.96066666666667, 48.233333333333334)"
            ]
          },
          "metadata": {
            "tags": []
          },
          "execution_count": 24
        }
      ]
    },
    {
      "cell_type": "markdown",
      "metadata": {
        "id": "J8jXZpxFFH07"
      },
      "source": [
        "# 2. : Two Sample T-Test with Python\n",
        "\n",
        "> Also called Independent t Test\n",
        "\n",
        "> stats.ttest_ind is used"
      ]
    },
    {
      "cell_type": "code",
      "metadata": {
        "id": "6UECF4KBFCPN"
      },
      "source": [
        "school_ages=stats.poisson.rvs(loc=18,mu=35,size=1500)\n",
        "classA_ages=stats.poisson.rvs(loc=18,mu=30,size=60)\n",
        "ClassB_ages=stats.poisson.rvs(loc=18,mu=33,size=60)"
      ],
      "execution_count": 25,
      "outputs": []
    },
    {
      "cell_type": "code",
      "metadata": {
        "colab": {
          "base_uri": "https://localhost:8080/"
        },
        "id": "jPZqPPBjFiLN",
        "outputId": "303d7c1a-53a9-4566-d679-8b7dc0aa3ea9"
      },
      "source": [
        "_,p_value=stats.ttest_ind(a=classA_ages,b=ClassB_ages,equal_var=False)\n",
        "\n",
        "test_results(p_value)"
      ],
      "execution_count": 26,
      "outputs": [
        {
          "output_type": "stream",
          "text": [
            "The H0 is Rejected.\n"
          ],
          "name": "stdout"
        }
      ]
    },
    {
      "cell_type": "code",
      "metadata": {
        "colab": {
          "base_uri": "https://localhost:8080/"
        },
        "id": "yP_LC7Y3F5Is",
        "outputId": "7d0d3fa9-9161-49ca-b330-e3fc2f38c7b9"
      },
      "source": [
        "classA_ages.mean(), school_ages.mean() , ClassB_ages.mean()"
      ],
      "execution_count": 27,
      "outputs": [
        {
          "output_type": "execute_result",
          "data": {
            "text/plain": [
              "(47.96666666666667, 52.821333333333335, 51.11666666666667)"
            ]
          },
          "metadata": {
            "tags": []
          },
          "execution_count": 27
        }
      ]
    },
    {
      "cell_type": "code",
      "metadata": {
        "id": "wBDCBfU2F1GT"
      },
      "source": [
        "## This tests help know weather there's a significant variation in means \n",
        "## from a sample to other sample, and hence the overall mean of the population."
      ],
      "execution_count": 28,
      "outputs": []
    },
    {
      "cell_type": "code",
      "metadata": {
        "id": "_JkhONfDGWlf"
      },
      "source": [
        "#########################################"
      ],
      "execution_count": 29,
      "outputs": []
    },
    {
      "cell_type": "markdown",
      "metadata": {
        "id": "Rjk1uVI_Gh9H"
      },
      "source": [
        "# 3. Paired T-Test\n",
        "\n",
        "> To check weather from one point of time to the other, there has been a significant change in the mean of a population or not. \n",
        "\n",
        "> Example, mean height of a group of kids in 2020 vs their hights in 2021 June."
      ]
    },
    {
      "cell_type": "code",
      "metadata": {
        "id": "uOhoJJFbGgIC"
      },
      "source": [
        "weight1=[25,30,28,35,28,34,26,29,30,26,28,32,31,30,45]\n",
        "weight2=weight1+stats.norm.rvs(scale=5,loc=-1.25,size=15)"
      ],
      "execution_count": 30,
      "outputs": []
    },
    {
      "cell_type": "code",
      "metadata": {
        "id": "Bg4XJOU6G99u"
      },
      "source": [
        "#Performing the test\n",
        "_,p_value=stats.ttest_rel(a=weight1,b=weight2)"
      ],
      "execution_count": 31,
      "outputs": []
    },
    {
      "cell_type": "code",
      "metadata": {
        "colab": {
          "base_uri": "https://localhost:8080/"
        },
        "id": "2jBuZoOZHFHN",
        "outputId": "44542fff-9eaf-4ee6-cdf6-23ad37be4265"
      },
      "source": [
        "test_results(p_value)"
      ],
      "execution_count": 32,
      "outputs": [
        {
          "output_type": "stream",
          "text": [
            "The H0 is failed to be rejected.\n"
          ],
          "name": "stdout"
        }
      ]
    },
    {
      "cell_type": "code",
      "metadata": {
        "id": "Q-sbncBeHJuD"
      },
      "source": [
        "# hence it means that the change from weight 1 to weight 2 is not significant."
      ],
      "execution_count": 33,
      "outputs": []
    },
    {
      "cell_type": "code",
      "metadata": {
        "id": "J0ZFnhctHQmc"
      },
      "source": [
        ""
      ],
      "execution_count": null,
      "outputs": []
    }
  ]
}